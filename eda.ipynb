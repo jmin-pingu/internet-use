{
 "cells": [
  {
   "cell_type": "code",
   "execution_count": null,
   "id": "a6f08858-b634-499d-b5ab-dce63eb4f67a",
   "metadata": {},
   "outputs": [],
   "source": []
  }
 ],
 "metadata": {
  "kernelspec": {
   "display_name": "internet-use",
   "language": "python",
   "name": "internet-use"
  },
  "language_info": {
   "codemirror_mode": {
    "name": "ipython",
    "version": 3
   },
   "file_extension": ".py",
   "mimetype": "text/x-python",
   "name": "python",
   "nbconvert_exporter": "python",
   "pygments_lexer": "ipython3",
   "version": "3.12.4"
  }
 },
 "nbformat": 4,
 "nbformat_minor": 5
}
